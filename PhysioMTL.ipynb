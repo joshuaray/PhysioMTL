{
  "nbformat": 4,
  "nbformat_minor": 0,
  "metadata": {
    "colab": {
      "provenance": []
    },
    "kernelspec": {
      "name": "python3",
      "display_name": "Python 3"
    },
    "language_info": {
      "name": "python"
    }
  },
  "cells": [
    {
      "cell_type": "markdown",
      "source": [
        "# Requirements & Imports"
      ],
      "metadata": {
        "id": "Cj3umy8bSCl1"
      }
    },
    {
      "cell_type": "code",
      "source": [
        "!git clone https://github.com/hichamjanati/mutar\n",
        "%cd mutar\n",
        "!pip install -e .\n",
        "%cd /content\n",
        "\n",
        "%pip install pot\n",
        "\n",
        "import site \n",
        "site.main()"
      ],
      "metadata": {
        "id": "8guuC_e1SEdH",
        "colab": {
          "base_uri": "https://localhost:8080/"
        },
        "outputId": "953255ea-72a0-43bd-b0d9-6ddf207d8e3e"
      },
      "execution_count": null,
      "outputs": [
        {
          "output_type": "stream",
          "name": "stdout",
          "text": [
            "fatal: destination path 'mutar' already exists and is not an empty directory.\n",
            "/content/mutar\n",
            "Looking in indexes: https://pypi.org/simple, https://us-python.pkg.dev/colab-wheels/public/simple/\n",
            "Obtaining file:///content/mutar\n",
            "  Preparing metadata (setup.py) ... \u001b[?25l\u001b[?25hdone\n",
            "Requirement already satisfied: numpy in /usr/local/lib/python3.9/dist-packages (from mutar==0.0.1) (1.22.4)\n",
            "Requirement already satisfied: scikit-learn in /usr/local/lib/python3.9/dist-packages (from mutar==0.0.1) (1.2.2)\n",
            "Requirement already satisfied: numba>=0.40.1 in /usr/local/lib/python3.9/dist-packages (from mutar==0.0.1) (0.56.4)\n",
            "Requirement already satisfied: llvmlite<0.40,>=0.39.0dev0 in /usr/local/lib/python3.9/dist-packages (from numba>=0.40.1->mutar==0.0.1) (0.39.1)\n",
            "Requirement already satisfied: setuptools in /usr/local/lib/python3.9/dist-packages (from numba>=0.40.1->mutar==0.0.1) (67.6.1)\n",
            "Requirement already satisfied: joblib>=1.1.1 in /usr/local/lib/python3.9/dist-packages (from scikit-learn->mutar==0.0.1) (1.2.0)\n",
            "Requirement already satisfied: scipy>=1.3.2 in /usr/local/lib/python3.9/dist-packages (from scikit-learn->mutar==0.0.1) (1.10.1)\n",
            "Requirement already satisfied: threadpoolctl>=2.0.0 in /usr/local/lib/python3.9/dist-packages (from scikit-learn->mutar==0.0.1) (3.1.0)\n",
            "Installing collected packages: mutar\n",
            "  Attempting uninstall: mutar\n",
            "    Found existing installation: mutar 0.0.1\n",
            "    Can't uninstall 'mutar'. No files were found to uninstall.\n",
            "  Running setup.py develop for mutar\n",
            "Successfully installed mutar-0.0.1\n",
            "/content\n",
            "Looking in indexes: https://pypi.org/simple, https://us-python.pkg.dev/colab-wheels/public/simple/\n",
            "Requirement already satisfied: pot in /usr/local/lib/python3.9/dist-packages (0.9.0)\n",
            "Requirement already satisfied: numpy>=1.16 in /usr/local/lib/python3.9/dist-packages (from pot) (1.22.4)\n",
            "Requirement already satisfied: scipy>=1.0 in /usr/local/lib/python3.9/dist-packages (from pot) (1.10.1)\n"
          ]
        }
      ]
    },
    {
      "cell_type": "code",
      "source": [
        "import zipfile\n",
        "import numpy as np\n",
        "import pandas as pd\n",
        "import ot\n",
        "import matplotlib.cm as cm\n",
        "import mutar\n",
        "import random\n",
        "\n",
        "from scipy import stats\n",
        "from matplotlib import pyplot as plt\n",
        "from matplotlib.lines import Line2D\n",
        "from mutar import GroupLasso, DirtyModel, MTW, IndLasso, MultiLevelLasso, ReMTW\n",
        "from sklearn.utils import shuffle\n",
        "from scipy.interpolate import make_interp_spline\n",
        "from matplotlib.colors import get_named_colors_mapping"
      ],
      "metadata": {
        "id": "PnavrIKiSHwm"
      },
      "execution_count": null,
      "outputs": []
    },
    {
      "cell_type": "markdown",
      "source": [
        "# MMASH Data Set"
      ],
      "metadata": {
        "id": "QRfcLnh9dT3M"
      }
    },
    {
      "cell_type": "markdown",
      "source": [
        "##Download MMASH"
      ],
      "metadata": {
        "id": "GH_FJcJPaWAA"
      }
    },
    {
      "cell_type": "code",
      "source": [
        "!mkdir MMASH\n",
        "!mkdir Data\n",
        "!mkdir Data/figures\n",
        "!wget -O MMASH/mmash.zip -r -N -c -np https://physionet.org/files/mmash/1.0.0/MMASH.zip\n",
        "\n",
        "with zipfile.ZipFile('MMASH/mmash.zip', 'r') as zip_ref:\n",
        "  zip_ref.extractall('MMASH')\n",
        "\n",
        "!rm MMASH/mmash.zip"
      ],
      "metadata": {
        "colab": {
          "base_uri": "https://localhost:8080/"
        },
        "id": "ObvkW1nbdWX5",
        "outputId": "c39f14c3-6f19-434f-c673-463f744ce483"
      },
      "execution_count": null,
      "outputs": [
        {
          "output_type": "stream",
          "name": "stdout",
          "text": [
            "mkdir: cannot create directory ‘MMASH’: File exists\n",
            "mkdir: cannot create directory ‘Data’: File exists\n",
            "mkdir: cannot create directory ‘Data/figures’: File exists\n",
            "WARNING: combining -O with -r or -p will mean that all downloaded content\n",
            "will be placed in the single file you specified.\n",
            "\n",
            "WARNING: timestamping does nothing in combination with -O. See the manual\n",
            "for details.\n",
            "\n",
            "--2023-04-16 18:56:41--  https://physionet.org/files/mmash/1.0.0/MMASH.zip\n",
            "Resolving physionet.org (physionet.org)... 18.18.42.54\n",
            "Connecting to physionet.org (physionet.org)|18.18.42.54|:443... connected.\n",
            "HTTP request sent, awaiting response... 200 OK\n",
            "Length: 24649620 (24M) [application/zip]\n",
            "Saving to: ‘MMASH/mmash.zip’\n",
            "\n",
            "MMASH/mmash.zip     100%[===================>]  23.51M  1019KB/s    in 23s     \n",
            "\n",
            "2023-04-16 18:57:05 (1.04 MB/s) - ‘MMASH/mmash.zip’ saved [24649620/24649620]\n",
            "\n",
            "FINISHED --2023-04-16 18:57:05--\n",
            "Total wall clock time: 24s\n",
            "Downloaded: 1 files, 24M in 23s (1.04 MB/s)\n"
          ]
        }
      ]
    },
    {
      "cell_type": "markdown",
      "source": [
        "##Preprocess MMASH"
      ],
      "metadata": {
        "id": "a7q-QrhEcrnQ"
      }
    },
    {
      "cell_type": "code",
      "source": [
        "# Scripting constants\n",
        "BASELINE_DATES = {1: \"2020-08-01\", 2: \"2020-08-02\"}\n",
        "RANDOM_STATE = 12345\n",
        "USER_FILE_PREFIX = \"/content/MMASH/DataPaper/user_\"\n",
        "\n",
        "# Data set variables\n",
        "RELEVANT_ACTIVITY = [4, 5]\n",
        "USER_INFO_FIELDS = [\"Age\", \"Height\", \"Weight\"]\n",
        "OMIT_TASKS = [4,]\n",
        "OVERWRITES = {3: [5,60], 11: [4,6.5], 18: [0,22]}\n",
        "\n",
        "# Pre-processing hyperparameters\n",
        "IBIS_UPPER = 2.1\n",
        "IBIS_LOWER = 0.3\n",
        "FREQUENCY = \"5min\"\n",
        "NOISE_UPPER = 55.0\n",
        "NOISE_SAMPLE_PERCENT = 0.85\n",
        "ZSCORE_UPPER = 2.5\n",
        "HUMAN_FEQ = 2.0 * np.pi / 24"
      ],
      "metadata": {
        "id": "co0zTsuNpSbA"
      },
      "execution_count": null,
      "outputs": []
    },
    {
      "cell_type": "code",
      "source": [
        "def get_sleep_data(data):\n",
        "    return data[\"Total Minutes in Bed\"].sum() / 60\n",
        "\n",
        "def get_activity_data(data):\n",
        "    data = data.copy().dropna()\n",
        "    del data[\"Unnamed: 0\"]\n",
        "    assign_pd_time_activity = lambda x: pd.to_timedelta(x[\"End\"] + \":00\") - pd.to_timedelta(x[\"Start\"] + \":00\")\n",
        "    data[\"time_start_pd\"] = data.apply(assign_pd_time_activity, axis=1)\n",
        "    data[\"time_end_pd\"] = data.apply(assign_pd_time_activity, axis=1)\n",
        "    data[\"time_last_hour\"] = data[\"time_end_pd\"].apply(lambda x: x.seconds / 3600)\n",
        "    data = data.loc[data[\"Activity\"].isin(RELEVANT_ACTIVITY)]\n",
        "    return data[\"time_last_hour\"].sum() if not data.empty else 0\n",
        "\n",
        "def get_user_info_data(data):\n",
        "    data = data[USER_INFO_FIELDS].loc[0].values\n",
        "    return np.array([data[0], data[1] / 100.0, data[2]])\n",
        "\n",
        "def get_questionnaire_data(data):\n",
        "    return data[\"Daily_stress\"].loc[0]\n",
        "\n",
        "def get_rr_data(data):\n",
        "    data[\"time_pd\"] = data.apply(lambda ds: pd.to_datetime(BASELINE_DATES.get(ds[\"day\"], BASELINE_DATES[2]) + \" \" + str(ds[\"time\"])), axis=1)\n",
        "    data['ibi_s'] = [x if x < IBIS_UPPER and x > IBIS_LOWER else np.nan for x in data['ibi_s']]\n",
        "    data = [w for _, w in data.dropna().groupby(pd.Grouper(key='time_pd', freq=FREQUENCY)) if not w.empty]\n",
        "    rr_value = pd.DataFrame({\n",
        "        \"time_pd\": [x[\"time_pd\"].mean() for x in data],\n",
        "        \"value\": [np.std(1000 * x[\"ibi_s\"], ddof=1) for x in data]\n",
        "    })\n",
        "    no_noise = rr_value[\"value\"] < NOISE_UPPER\n",
        "    no_noise = rr_value[no_noise].sample(int(NOISE_SAMPLE_PERCENT * no_noise.sum()), random_state=RANDOM_STATE)\n",
        "    rr_value = rr_value.drop(no_noise.index)\n",
        "    rr_value = rr_value.loc[np.abs(stats.zscore(rr_value[\"value\"])) < ZSCORE_UPPER]\n",
        "    rr_value = rr_value.loc[rr_value[\"value\"] > 12]\n",
        "    rr_value[\"t_hour\"] = rr_value[\"time_pd\"].apply(lambda x: (x - pd.Timestamp(BASELINE_DATES[1] + \" 00:00:00\")).total_seconds() / 3600)\n",
        "    return rr_value"
      ],
      "metadata": {
        "id": "-e1PcHsJcueP"
      },
      "execution_count": null,
      "outputs": []
    },
    {
      "cell_type": "code",
      "source": [
        "X_train_data, S_train_data, Y_train_data = [], [], []\n",
        "\n",
        "for i in range(1, 23):\n",
        "    if i in OMIT_TASKS:\n",
        "        continue\n",
        "    \n",
        "    user_folder = USER_FILE_PREFIX + str(i)\n",
        "\n",
        "    sleep_value = get_sleep_data(pd.read_csv(user_folder + \"/sleep.csv\"))\n",
        "    activity_value = get_activity_data(pd.read_csv(user_folder + \"/Activity.csv\", header=0))\n",
        "    user_info_value = get_user_info_data(pd.read_csv(user_folder + \"/user_info.csv\", header=0))\n",
        "    questionnaire_value = get_questionnaire_data(pd.read_csv(user_folder + \"/questionnaire.csv\", header=0))\n",
        "    rr_value = get_rr_data(pd.read_csv(user_folder + \"/RR.csv\", header=0))\n",
        "\n",
        "    t_hour = rr_value[\"t_hour\"].values\n",
        "    s_vector = np.hstack([user_info_value, activity_value, sleep_value, questionnaire_value, 1])\n",
        "    if i in OVERWRITES:\n",
        "        s_vector[OVERWRITES[i][0]] = OVERWRITES[i][1]\n",
        "    \n",
        "    X_train_data.append(np.asarray([np.sin(HUMAN_FEQ * t_hour), np.cos(HUMAN_FEQ * t_hour), np.ones(t_hour.shape[0], )]).T)\n",
        "    S_train_data.append(s_vector.reshape(-1, 1))\n",
        "    Y_train_data.append(rr_value[\"value\"].values.reshape((-1, 1)))\n",
        "\n",
        "    print(i, \": ymean=\", rr_value[\"value\"].mean())"
      ],
      "metadata": {
        "colab": {
          "base_uri": "https://localhost:8080/"
        },
        "id": "2bw0kzOuunVL",
        "outputId": "6fe8bfc6-f528-4240-dd5d-17c8a0cb7c55"
      },
      "execution_count": null,
      "outputs": [
        {
          "output_type": "stream",
          "name": "stdout",
          "text": [
            "1 : ymean= 85.56476822678721\n",
            "2 : ymean= 100.33561841324313\n",
            "3 : ymean= 76.47079460368347\n",
            "5 : ymean= 90.258288824083\n",
            "6 : ymean= 88.1846116338921\n",
            "7 : ymean= 85.14250546385614\n",
            "8 : ymean= 96.14583988348869\n",
            "9 : ymean= 88.87771062928078\n",
            "10 : ymean= 96.38566520289122\n",
            "11 : ymean= 87.05496543244831\n",
            "12 : ymean= 71.64783622577323\n",
            "13 : ymean= 75.48997318086856\n",
            "14 : ymean= 72.4216758657783\n",
            "15 : ymean= 89.94723825334468\n",
            "16 : ymean= 90.6241899400592\n",
            "17 : ymean= 84.65279849400704\n",
            "18 : ymean= 97.55197871468567\n",
            "19 : ymean= 93.08070948073929\n",
            "20 : ymean= 81.19209160183755\n",
            "21 : ymean= 77.00527424006555\n",
            "22 : ymean= 83.18474159704846\n"
          ]
        }
      ]
    },
    {
      "cell_type": "markdown",
      "source": [
        "# PhysioMTL Model Definition"
      ],
      "metadata": {
        "id": "H5CHo7_kaZ-D"
      }
    },
    {
      "cell_type": "code",
      "source": [
        "T_GRADIENT_THRESHOLD = 1e-8\n",
        "W_GRADIENT_THRESHOLD = 1e-7"
      ],
      "metadata": {
        "id": "bvb55FWlBeMD"
      },
      "execution_count": null,
      "outputs": []
    },
    {
      "cell_type": "code",
      "source": [
        "class PhysioMTL:\n",
        "    def __init__(self, cost_func, iterations=50, t_learn_rate=9e-2, t_iterations=200, w_learn_rate=1e-7, w_iterations=50, alpha=0.1, epsilon=1e-4, lambda_=5, sigma=10):\n",
        "        self.cost_func = cost_func\n",
        "        self.iterations = iterations\n",
        "        self.t_learn_rate = t_learn_rate\n",
        "        self.t_iterations = t_iterations\n",
        "        self.w_learn_rate = w_learn_rate\n",
        "        self.w_iterations = w_iterations\n",
        "        self.alpha = alpha\n",
        "        self.epsilon = epsilon\n",
        "        self.lambda_ = lambda_\n",
        "        self.sigma = sigma\n",
        "\n",
        "    def fit(self, X, S, Y):\n",
        "        self.S = S\n",
        "        X = np.array(X)\n",
        "        Y = np.array(Y)\n",
        "        W = self.solve_w_by_linear_regression(X, Y)\n",
        "        C, K = self.get_cost_matrix(S)\n",
        "        Pi = self.solve_ot_plan(C)\n",
        "        self.T = self.converge_fw_gradient_descent(X, Y, W, K, Pi)\n",
        "\n",
        "    def solve_w_by_linear_regression(self, X, Y):\n",
        "        return np.concatenate([Y[i].T @ x @ np.linalg.inv(x.T @ x) for i, x in enumerate(X)]).T\n",
        "\n",
        "    def get_cost_matrix(self, S):\n",
        "        C = np.array([[self.cost_func(i, j) for j in S] for i in self.S])\n",
        "        K = np.exp(-C / (2 * self.sigma**2))\n",
        "        return C, K\n",
        "\n",
        "    def solve_ot_plan(self, C):\n",
        "        T = len(C)\n",
        "        fracs = np.ones(T) / T\n",
        "        transport_matrix = np.exp(-self.lambda_ * C)\n",
        "        transport_matrix /= transport_matrix.sum()\n",
        "        u = np.zeros(T)\n",
        "        while np.max(np.abs(u - transport_matrix.sum(1))) > self.epsilon:\n",
        "            u = transport_matrix.sum(1)\n",
        "            transport_matrix *= fracs / u[:, None]\n",
        "            transport_matrix *= fracs / transport_matrix.sum(0)[None, :]\n",
        "        return transport_matrix\n",
        "\n",
        "    def converge_fw_gradient_descent(self, X, Y, W, K, Pi):\n",
        "        N = len(X)\n",
        "        Z = np.zeros((W.shape[0], K.shape[0]))\n",
        "        T = np.zeros((W.shape[0], K.shape[0]))\n",
        "        for iteration in range(self.iterations):\n",
        "            norm_last = 1e6\n",
        "            for t in range(self.t_iterations):\n",
        "                grad = [Pi[i, j] * (W[:, i:i+1] - T @ K[:, j:j+1]) @ K[:, j:j+1].T for i in range(N) for j in range(N)]\n",
        "                grad = Z - self.alpha * 2 * sum(grad)\n",
        "                norm = np.sum(np.square(grad))\n",
        "                if np.abs(norm_last - norm) < T_GRADIENT_THRESHOLD:\n",
        "                    print(t, \": threshold met for T\")\n",
        "                    break\n",
        "                norm_last = norm\n",
        "                T = T - self.t_learn_rate * grad\n",
        "            print(iteration, \": T gradient F-norm:\", norm)\n",
        "\n",
        "            norm_last = 1e6\n",
        "            for w in range(self.w_iterations):\n",
        "                grad = np.zeros_like(W)\n",
        "                for t in range(N):\n",
        "                    grad[:, t:t+1] = ((W[:, t:t+1].T @ X[t].T - Y[t].T) @ (X[t]) - self.alpha * sum([(T @ K[:, tt:tt+1] - W[:, tt:tt + 1]).T for tt in range(N)])).T\n",
        "                norm = np.sum(np.square(grad))\n",
        "                if np.abs(norm_last - norm) < W_GRADIENT_THRESHOLD:\n",
        "                    print(w, \": threshold met for W\")\n",
        "                    break\n",
        "                norm_last = norm\n",
        "                W = W - self.w_learn_rate * grad\n",
        "        return T\n",
        "\n",
        "    def predict(self, X, S):\n",
        "        if X is None and S is None:\n",
        "            return [x @ self.W[:, i:i+1] for i, x in enumerate(self.X)]\n",
        "\n",
        "        _, K = self.get_cost_matrix(S)\n",
        "        K = [K[:, i:i+1] for i in range(len(S))]\n",
        "\n",
        "        return [x @ self.T @ K[i] for i, x in enumerate(X)]"
      ],
      "metadata": {
        "id": "4N8BVtViacpx"
      },
      "execution_count": null,
      "outputs": []
    },
    {
      "cell_type": "markdown",
      "source": [
        "# Train the model"
      ],
      "metadata": {
        "id": "Gyc3QTY9a6p8"
      }
    },
    {
      "cell_type": "code",
      "source": [
        "model = PhysioMTL(lambda x_vec, y_vec: np.sqrt(np.mean(np.square(np.dot(np.array([1, 10., 1., 10, 1., 1., 0]), x_vec - y_vec)))))\n",
        "model.fit(X_train_data, S_train_data, Y_train_data)"
      ],
      "metadata": {
        "id": "1bRkNOrva9a6",
        "colab": {
          "base_uri": "https://localhost:8080/"
        },
        "outputId": "fc07c6d6-7faf-4687-88c7-8c553adbe822"
      },
      "execution_count": null,
      "outputs": [
        {
          "output_type": "stream",
          "name": "stderr",
          "text": [
            "<ipython-input-8-2489dc13dabf>:16: VisibleDeprecationWarning: Creating an ndarray from ragged nested sequences (which is a list-or-tuple of lists-or-tuples-or ndarrays with different lengths or shapes) is deprecated. If you meant to do this, you must specify 'dtype=object' when creating the ndarray.\n",
            "  X = np.array(X)\n",
            "<ipython-input-8-2489dc13dabf>:17: VisibleDeprecationWarning: Creating an ndarray from ragged nested sequences (which is a list-or-tuple of lists-or-tuples-or ndarrays with different lengths or shapes) is deprecated. If you meant to do this, you must specify 'dtype=object' when creating the ndarray.\n",
            "  Y = np.array(Y)\n"
          ]
        },
        {
          "output_type": "stream",
          "name": "stdout",
          "text": [
            "0 : T gradient F-norm: 0.0345798390693929\n",
            "1 : T gradient F-norm: 0.02276657579260545\n",
            "2 : T gradient F-norm: 0.01571697892624365\n",
            "3 : T gradient F-norm: 0.011480927463914395\n",
            "4 : T gradient F-norm: 0.008907834342652084\n",
            "5 : T gradient F-norm: 0.007318792771273572\n",
            "6 : T gradient F-norm: 0.006313163112263196\n",
            "7 : T gradient F-norm: 0.005654471169678731\n",
            "8 : T gradient F-norm: 0.005203095184083875\n",
            "9 : T gradient F-norm: 0.00487655520554798\n",
            "10 : T gradient F-norm: 0.004626086127762517\n",
            "11 : T gradient F-norm: 0.004422817058148071\n",
            "12 : T gradient F-norm: 0.004249617825472786\n",
            "13 : T gradient F-norm: 0.004096288747482535\n",
            "14 : T gradient F-norm: 0.003956722717925311\n",
            "15 : T gradient F-norm: 0.003827230844656388\n",
            "16 : T gradient F-norm: 0.003705554516508479\n",
            "17 : T gradient F-norm: 0.0035902824267179797\n",
            "18 : T gradient F-norm: 0.003480506501858871\n",
            "19 : T gradient F-norm: 0.0033756187764091223\n",
            "20 : T gradient F-norm: 0.003275191422557883\n",
            "21 : T gradient F-norm: 0.0031789058423203048\n",
            "22 : T gradient F-norm: 0.0030865107090347773\n",
            "23 : T gradient F-norm: 0.002997797092645849\n",
            "24 : T gradient F-norm: 0.0029125836685874743\n",
            "25 : T gradient F-norm: 0.002830707880375212\n",
            "26 : T gradient F-norm: 0.002752020619316957\n",
            "27 : T gradient F-norm: 0.002676382983700982\n",
            "28 : T gradient F-norm: 0.0026036642691465886\n",
            "29 : T gradient F-norm: 0.0025337406894747894\n",
            "30 : T gradient F-norm: 0.0024664945325710993\n",
            "31 : T gradient F-norm: 0.002401813576723124\n",
            "32 : T gradient F-norm: 0.002339590664313042\n",
            "33 : T gradient F-norm: 0.0022797233718712955\n",
            "34 : T gradient F-norm: 0.0022221137403573344\n",
            "35 : T gradient F-norm: 0.0021666680442041413\n",
            "36 : T gradient F-norm: 0.002113296586325958\n",
            "37 : T gradient F-norm: 0.0020619135114036285\n",
            "38 : T gradient F-norm: 0.0020124366327862117\n",
            "39 : T gradient F-norm: 0.001964787270136828\n",
            "40 : T gradient F-norm: 0.0019188900960114734\n",
            "41 : T gradient F-norm: 0.0018746729901903299\n",
            "42 : T gradient F-norm: 0.0018320669009583865\n",
            "43 : T gradient F-norm: 0.0017910057127588858\n",
            "44 : T gradient F-norm: 0.0017514261197816726\n",
            "45 : T gradient F-norm: 0.0017132675051343142\n",
            "46 : T gradient F-norm: 0.0016764718252984952\n",
            "47 : T gradient F-norm: 0.0016409834996102906\n",
            "48 : T gradient F-norm: 0.0016067493045281175\n",
            "49 : T gradient F-norm: 0.001573718272470121\n"
          ]
        }
      ]
    },
    {
      "cell_type": "markdown",
      "source": [
        "# Sample PhysioMTL Prediction"
      ],
      "metadata": {
        "id": "4h_8EzJDaw9O"
      }
    },
    {
      "cell_type": "code",
      "source": [
        "S_ = np.array([[23.], [1.80], [85.], [1.], [7.], [20.], [1.]]).reshape(-1, 1)\n",
        "\n",
        "T_ = np.linspace(8, 36, 30)\n",
        "X_ = np.asarray([np.sin(HUMAN_FEQ * T_), np.cos(HUMAN_FEQ * T_), np.ones(30, )]).T\n",
        "\n",
        "_, ax = plt.subplots()\n",
        "\n",
        "ticks = [[9, '9:00'], [12, '12:00'], [15, '15:00'], [18, '18:00'], [21, '21:00'], [24, '24:00'], [27, '3:00'], [30, '6:00'], [33, '9:00'], [36, '12:00']]\n",
        "ax.set_xticks([x[0] for x in ticks])\n",
        "ax.set_xticklabels([x[1] for x in ticks], rotation=30)\n",
        "ax.set_ylabel(\"HRV\")\n",
        "ax.set_xlabel(\"Time\")\n",
        "\n",
        "ax.plot(T_, model.predict([X_], [S_])[0])"
      ],
      "metadata": {
        "colab": {
          "base_uri": "https://localhost:8080/",
          "height": 484
        },
        "id": "xMzrykuPYt3P",
        "outputId": "2eae8579-fe92-44c0-c4a2-48dbdd2084af"
      },
      "execution_count": null,
      "outputs": [
        {
          "output_type": "execute_result",
          "data": {
            "text/plain": [
              "[<matplotlib.lines.Line2D at 0x7f1097129730>]"
            ]
          },
          "metadata": {},
          "execution_count": 10
        },
        {
          "output_type": "display_data",
          "data": {
            "text/plain": [
              "<Figure size 640x480 with 1 Axes>"
            ],
            "image/png": "[encoded data removed]"
          },
          "metadata": {}
        }
      ]
    }
  ]
}
